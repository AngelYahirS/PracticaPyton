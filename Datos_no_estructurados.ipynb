{
 "cells": [
  {
   "cell_type": "code",
   "execution_count": null,
   "metadata": {},
   "outputs": [],
   "source": [
    "import re\n",
    "import pandas as pd\n",
    "import emoji as em\n",
    "\n",
    "with open(\"ruta del chat\", 'r', encoding='utf-8') as file:\n",
    "    text = file.read()\n"
   ]
  },
  {
   "cell_type": "code",
   "execution_count": null,
   "metadata": {},
   "outputs": [],
   "source": [
    "import pandas as pd\n",
    "import re\n",
    "\n",
    "\n",
    "pattern = r\"(\\d{2}/\\d{2}/\\d{2}) (\\d{2}:\\d{2}) - (.*?): ((?: (?!\\d{2}/\\d{2}/\\d{2})[\\s\\s]))\"\n",
    "\n",
    "matches = re.findall(pattern, text, re.MULTILINE)\n",
    "\n",
    "df = pd.DataFrame(matches, columns=['Fecha', 'Hora', 'Usuario', 'Mensaje'])\n",
    "df.head(55)\n",
    "\n",
    "print(df)"
   ]
  }
 ],
 "metadata": {
  "language_info": {
   "name": "python"
  }
 },
 "nbformat": 4,
 "nbformat_minor": 2
}
