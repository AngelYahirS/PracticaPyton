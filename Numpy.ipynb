{
 "cells": [
  {
   "cell_type": "markdown",
   "metadata": {},
   "source": [
    "#Libreria de Numpy"
   ]
  },
  {
   "cell_type": "code",
   "execution_count": 1,
   "metadata": {},
   "outputs": [
    {
     "data": {
      "text/plain": [
       "array([[0., 0., 0., 0.],\n",
       "       [0., 0., 0., 0.]])"
      ]
     },
     "execution_count": 1,
     "metadata": {},
     "output_type": "execute_result"
    }
   ],
   "source": [
    "import numpy as np\n",
    "a = np.zeros((2,4))\n",
    "a"
   ]
  },
  {
   "cell_type": "code",
   "execution_count": 2,
   "metadata": {},
   "outputs": [
    {
     "data": {
      "text/plain": [
       "(2, 4)"
      ]
     },
     "execution_count": 2,
     "metadata": {},
     "output_type": "execute_result"
    }
   ],
   "source": [
    "a.shape"
   ]
  },
  {
   "cell_type": "code",
   "execution_count": 3,
   "metadata": {},
   "outputs": [
    {
     "data": {
      "text/plain": [
       "8"
      ]
     },
     "execution_count": 3,
     "metadata": {},
     "output_type": "execute_result"
    }
   ],
   "source": [
    "a.size"
   ]
  },
  {
   "cell_type": "code",
   "execution_count": 4,
   "metadata": {},
   "outputs": [
    {
     "data": {
      "text/plain": [
       "2"
      ]
     },
     "execution_count": 4,
     "metadata": {},
     "output_type": "execute_result"
    }
   ],
   "source": [
    "a.ndim"
   ]
  },
  {
   "cell_type": "code",
   "execution_count": 5,
   "metadata": {},
   "outputs": [
    {
     "data": {
      "text/plain": [
       "array([[[1., 1., 1., 1.],\n",
       "        [1., 1., 1., 1.],\n",
       "        [1., 1., 1., 1.]],\n",
       "\n",
       "       [[1., 1., 1., 1.],\n",
       "        [1., 1., 1., 1.],\n",
       "        [1., 1., 1., 1.]]])"
      ]
     },
     "execution_count": 5,
     "metadata": {},
     "output_type": "execute_result"
    }
   ],
   "source": [
    "np.ones((2,3,4))"
   ]
  },
  {
   "cell_type": "code",
   "execution_count": 6,
   "metadata": {},
   "outputs": [
    {
     "data": {
      "text/plain": [
       "array([[[8, 8, 8, 8],\n",
       "        [8, 8, 8, 8],\n",
       "        [8, 8, 8, 8]],\n",
       "\n",
       "       [[8, 8, 8, 8],\n",
       "        [8, 8, 8, 8],\n",
       "        [8, 8, 8, 8]]])"
      ]
     },
     "execution_count": 6,
     "metadata": {},
     "output_type": "execute_result"
    }
   ],
   "source": [
    "np.full((2,3,4),8)"
   ]
  },
  {
   "cell_type": "code",
   "execution_count": 7,
   "metadata": {},
   "outputs": [
    {
     "data": {
      "text/plain": [
       "array([[[1.32983737e-316, 0.00000000e+000, 0.00000000e+000,\n",
       "         0.00000000e+000, 0.00000000e+000, 4.94065646e-324,\n",
       "         0.00000000e+000, 1.58521951e-316, 0.00000000e+000],\n",
       "        [6.36598737e-314, 6.47591605e-319, 0.00000000e+000,\n",
       "         1.58521872e-316, 1.67487207e-316, 2.54639495e-313,\n",
       "         2.12199581e-314, 2.33419537e-313, 5.92878775e-323],\n",
       "        [6.50111339e-319, 0.00000000e+000, 0.00000000e+000,\n",
       "         0.00000000e+000, 1.62476571e-316, 0.00000000e+000,\n",
       "         4.94065646e-324, 1.67487207e-316, 1.94696509e-308]],\n",
       "\n",
       "       [[0.00000000e+000, 1.08433985e-311, 0.00000000e+000,\n",
       "         0.00000000e+000, 0.00000000e+000, 0.00000000e+000,\n",
       "         0.00000000e+000, 0.00000000e+000, 1.67487898e-316],\n",
       "        [0.00000000e+000, 0.00000000e+000, 0.00000000e+000,\n",
       "         0.00000000e+000, 0.00000000e+000, 0.00000000e+000,\n",
       "         0.00000000e+000, 0.00000000e+000, 0.00000000e+000],\n",
       "        [0.00000000e+000, 0.00000000e+000, 0.00000000e+000,\n",
       "         0.00000000e+000, 0.00000000e+000, 0.00000000e+000,\n",
       "         0.00000000e+000, 0.00000000e+000, 0.00000000e+000]]])"
      ]
     },
     "execution_count": 7,
     "metadata": {},
     "output_type": "execute_result"
    }
   ],
   "source": [
    "np.empty((2,3,9))"
   ]
  },
  {
   "cell_type": "code",
   "execution_count": 8,
   "metadata": {},
   "outputs": [
    {
     "data": {
      "text/plain": [
       "array([1, 2, 3])"
      ]
     },
     "execution_count": 8,
     "metadata": {},
     "output_type": "execute_result"
    }
   ],
   "source": [
    "np.array([1,2,3])"
   ]
  },
  {
   "cell_type": "code",
   "execution_count": 9,
   "metadata": {},
   "outputs": [
    {
     "data": {
      "text/plain": [
       "array([0.        , 0.66666667, 1.33333333, 2.        , 2.66666667,\n",
       "       3.33333333, 4.        , 4.66666667, 5.33333333, 6.        ])"
      ]
     },
     "execution_count": 9,
     "metadata": {},
     "output_type": "execute_result"
    }
   ],
   "source": [
    "np.linspace(0,6,10)"
   ]
  },
  {
   "cell_type": "code",
   "execution_count": 10,
   "metadata": {},
   "outputs": [
    {
     "data": {
      "text/plain": [
       "array([[[0.552926  , 0.82181458, 0.24550572, 0.34837839],\n",
       "        [0.89547557, 0.6009029 , 0.41670829, 0.22868149],\n",
       "        [0.50261982, 0.53801734, 0.98477211, 0.24734107]],\n",
       "\n",
       "       [[0.63658208, 0.369494  , 0.97256373, 0.78848392],\n",
       "        [0.10645624, 0.05375814, 0.31805124, 0.61782013],\n",
       "        [0.69689025, 0.18771028, 0.11835191, 0.06028868]]])"
      ]
     },
     "execution_count": 10,
     "metadata": {},
     "output_type": "execute_result"
    }
   ],
   "source": [
    "np.random.rand(2,3,4)"
   ]
  },
  {
   "cell_type": "code",
   "execution_count": 11,
   "metadata": {},
   "outputs": [
    {
     "data": {
      "image/png": "[encoded data removed]",
      "text/plain": [
       "<Figure size 640x480 with 1 Axes>"
      ]
     },
     "metadata": {},
     "output_type": "display_data"
    }
   ],
   "source": [
    "%matplotlib inline\n",
    "import matplotlib.pyplot as plt\n",
    "c = np.random.randn(100000)\n",
    "plt.hist(c,bins=2000)\n",
    "plt.show()"
   ]
  }
 ],
 "metadata": {
  "kernelspec": {
   "display_name": ".venv",
   "language": "python",
   "name": "python3"
  },
  "language_info": {
   "codemirror_mode": {
    "name": "ipython",
    "version": 3
   },
   "file_extension": ".py",
   "mimetype": "text/x-python",
   "name": "python",
   "nbconvert_exporter": "python",
   "pygments_lexer": "ipython3",
   "version": "3.8.10"
  }
 },
 "nbformat": 4,
 "nbformat_minor": 2
}
